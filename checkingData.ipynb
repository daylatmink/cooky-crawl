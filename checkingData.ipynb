{
 "cells": [
  {
   "cell_type": "code",
   "id": "initial_id",
   "metadata": {
    "collapsed": true,
    "ExecuteTime": {
     "end_time": "2025-07-21T02:31:30.058599Z",
     "start_time": "2025-07-21T02:31:29.885744Z"
    }
   },
   "source": [
    "import json\n",
    "import re\n",
    "import numpy as np\n",
    "with open(\"clean_data.json\", \"r\", encoding=\"utf-8\") as f:\n",
    "    data = json.load(f)\n",
    "\n",
    "print(len(data))\n",
    "print(data[0].keys())\n"
   ],
   "outputs": [
    {
     "name": "stdout",
     "output_type": "stream",
     "text": [
      "849\n",
      "dict_keys(['_id', 'name', 'description', 'imageURL', 'cuisine', 'preTimeMinutes', 'cookTimeMinutes', 'totalTimeMinutes', 'servings', 'ingredients'])\n"
     ]
    }
   ],
   "execution_count": 7
  },
  {
   "metadata": {
    "ExecuteTime": {
     "end_time": "2025-07-21T02:31:32.537285Z",
     "start_time": "2025-07-21T02:31:32.271264Z"
    }
   },
   "cell_type": "code",
   "source": [
    "for recipe in data:\n",
    "    recipe[\"name\"] = recipe[\"name\"].strip()\n",
    "    for ing in recipe[\"ingredients\"]:\n",
    "        ing[\"name\"] = ing[\"name\"].lower().strip()\n"
   ],
   "id": "3db512e171f2daf",
   "outputs": [],
   "execution_count": 8
  },
  {
   "metadata": {
    "ExecuteTime": {
     "end_time": "2025-07-21T02:31:33.934498Z",
     "start_time": "2025-07-21T02:31:33.931021Z"
    }
   },
   "cell_type": "code",
   "source": [
    "name_lengths = [len(recipe[\"name\"].split()) for recipe in data]\n",
    "max_name = max(data, key=lambda r: len(r[\"name\"].split()))\n",
    "all_words = [word for r in data for word in r[\"name\"].split()]\n"
   ],
   "id": "5d2758b42a467364",
   "outputs": [],
   "execution_count": 9
  },
  {
   "metadata": {
    "ExecuteTime": {
     "end_time": "2025-07-21T03:05:52.456062Z",
     "start_time": "2025-07-21T03:05:52.448766Z"
    }
   },
   "cell_type": "code",
   "source": [
    "ingredient_counts = [len(recipe[\"ingredients\"]) for recipe in data]\n",
    "\n",
    "from collections import Counter\n",
    "ingredient_counter = Counter()\n",
    "for r in data:\n",
    "    for ing in r[\"ingredients\"]:\n",
    "        ingredient_counter[ing[\"name\"]] += 1\n",
    "ingredient_counter.most_common(10)\n",
    "\n",
    "missing_counts = {}\n",
    "for recipe in data:\n",
    "    for key, value in recipe.items():\n",
    "        if value in [None, \"\", [], {}]:\n",
    "            missing_counts[key] = missing_counts.get(key, 0) + 1\n",
    "\n",
    "\n",
    "from collections import Counter\n",
    "\n",
    "all_steps = []\n",
    "for r in data:\n",
    "    if \"steps\" in r and isinstance(r[\"steps\"], list):\n",
    "        all_steps.extend(r[\"steps\"])\n",
    "\n",
    "words = [w for step in all_steps for w in re.findall(r'\\w+', step.lower())]\n",
    "step_word_counts = Counter(words).most_common(20)\n",
    "\n",
    "\n"
   ],
   "id": "f0ffa87a3f8c2a2",
   "outputs": [],
   "execution_count": 42
  },
  {
   "metadata": {
    "ExecuteTime": {
     "end_time": "2025-07-21T03:05:47.624259Z",
     "start_time": "2025-07-21T03:05:47.618393Z"
    }
   },
   "cell_type": "code",
   "source": [
    "mean_len = np.mean(name_lengths)\n",
    "median_len = np.median(name_lengths)\n",
    "std_len = np.std(name_lengths)\n",
    "\n",
    "# he so = 2\n",
    "# cong thuc tinh outlier > mean + he_so. do_lech_chuan hoac < mean - he_so. do_lech_chuan\n",
    "outlier_titles = [\n",
    "    r for r in data\n",
    "    if len(r[\"name\"].split()) < mean_len - 2 * std_len or len(r[\"name\"].split()) > mean_len + 2 * std_len\n",
    "]\n",
    "\n",
    "mean_ing = np.mean(ingredient_counts)\n",
    "std_ing = np.std(ingredient_counts)\n",
    "\n",
    "outlier_ingredients = [\n",
    "    r for r in data\n",
    "    if len(r[\"ingredients\"]) > mean_ing + 2 * std_ing or len(r[\"ingredients\"]) < mean_ing - 2 * std_ing\n",
    "]\n",
    "\n",
    "\n",
    "outlier_titles_info = [\n",
    "    {\"ten\": r[\"name\"], \"so_tu\": len(r[\"name\"].split())}\n",
    "    for r in outlier_titles\n",
    "]\n",
    "\n",
    "\n",
    "outlier_ingredients_info = [\n",
    "    {\"ten\": r[\"name\"], \"so_nguyen_lieu\": len(r[\"ingredients\"])}\n",
    "    for r in outlier_ingredients\n",
    "]\n"
   ],
   "id": "9ea88600b2b45d1e",
   "outputs": [],
   "execution_count": 41
  },
  {
   "metadata": {
    "ExecuteTime": {
     "end_time": "2025-07-21T03:05:55.050359Z",
     "start_time": "2025-07-21T03:05:55.043146Z"
    }
   },
   "cell_type": "code",
   "source": [
    "result = {\n",
    "    \"tong_so_mon_an\": len(data),\n",
    "\n",
    "    # Tên món dài nhất theo số chữ\n",
    "    \"ten_mon_dai_nhat\": max_name.get(\"name\"),\n",
    "\n",
    "    # Thống kê số chữ trong tên món\n",
    "    \"trung_binh_so_chu_trong_ten\": round(mean_len, 2),\n",
    "    \"trung_vi_so_chu_trong_ten\": median_len,\n",
    "    \"do_lech_chuan_so_chu_trong_ten\": round(std_len, 2),\n",
    "\n",
    "    # Thống kê nguyên liệu\n",
    "    \"so_nguyen_lieu_trung_binh\": round(mean_ing, 2),\n",
    "    \"do_lech_chuan_nguyen_lieu\": round(std_ing, 2),\n",
    "\n",
    "    # Top 10 nguyên liệu phổ biến\n",
    "    \"top_nguyen_lieu_pho_bien\": ingredient_counter.most_common(10),\n",
    "\n",
    "    # Thống kê số trường bị trống\n",
    "    \"so_truong_bi_trong\": dict(missing_counts),\n",
    "    \"ten_qua_dai\": outlier_titles_info,\n",
    "    \"mon_an_qua_nhieu_nguyen_lieu\": outlier_ingredients_info,\n",
    "}\n",
    "\n",
    "# In ra kết quả\n",
    "import pprint\n",
    "pprint.pprint(result, sort_dicts=False)\n"
   ],
   "id": "1a73f893a7556172",
   "outputs": [
    {
     "name": "stdout",
     "output_type": "stream",
     "text": [
      "{'tong_so_mon_an': 849,\n",
      " 'ten_mon_dai_nhat': 'Nấm Rơm Kho Quẹt, Rau Củ Luộc Và Cơm Cháy Áp Chảo',\n",
      " 'trung_binh_so_chu_trong_ten': np.float64(5.27),\n",
      " 'trung_vi_so_chu_trong_ten': np.float64(5.0),\n",
      " 'do_lech_chuan_so_chu_trong_ten': np.float64(1.53),\n",
      " 'so_nguyen_lieu_trung_binh': np.float64(8.43),\n",
      " 'do_lech_chuan_nguyen_lieu': np.float64(3.08),\n",
      " 'top_nguyen_lieu_pho_bien': [('đường', 307),\n",
      "                              ('muối', 270),\n",
      "                              ('dầu ăn', 230),\n",
      "                              ('đường trắng', 225),\n",
      "                              ('xốt nêm thịt heo knorr', 173),\n",
      "                              ('tỏi', 166),\n",
      "                              ('hành lá', 163),\n",
      "                              ('nước tương', 161),\n",
      "                              ('hạt nêm chay knorr nấm hương', 140),\n",
      "                              ('cà rốt', 138)],\n",
      " 'so_truong_bi_trong': {'preTimeMinutes': 849},\n",
      " 'ten_qua_dai': [{'ten': 'Nấm Bào Ngư Chiên Giòn Xốt Bơ Tỏi Mật Ong',\n",
      "                  'so_tu': 10},\n",
      "                 {'ten': 'Nấm Bào Ngư Chiên Giòn Xốt Tương Chua Cay',\n",
      "                  'so_tu': 9},\n",
      "                 {'ten': 'Nấm Bào Ngư Chiên Giòn Xốt Dầu Hào Chay', 'so_tu': 9},\n",
      "                 {'ten': 'Nấm Bào Ngư Chiên Giòn Xốt Tương Xí Muội',\n",
      "                  'so_tu': 9},\n",
      "                 {'ten': 'Bánh Trung Thu Rau Câu Trà Sữa Trân Châu',\n",
      "                  'so_tu': 9},\n",
      "                 {'ten': 'Mỳ Nấm', 'so_tu': 2},\n",
      "                 {'ten': 'Pizza Tôm', 'so_tu': 2},\n",
      "                 {'ten': 'Nấm Rơm Kho Quẹt, Rau Củ Luộc Và Cơm Cháy Áp Chảo',\n",
      "                  'so_tu': 12},\n",
      "                 {'ten': 'Japanese Karei', 'so_tu': 2},\n",
      "                 {'ten': 'Gà Roti', 'so_tu': 2},\n",
      "                 {'ten': 'Bít Tết Cá Ngừ - Tuna Steak (Japanese Style)',\n",
      "                  'so_tu': 9},\n",
      "                 {'ten': 'Salad Trứng Và Cá Ngừ Giảm Cân Hiệu Quả', 'so_tu': 9},\n",
      "                 {'ten': 'Bacon Spaghetti', 'so_tu': 2},\n",
      "                 {'ten': 'Sò Điệp Xào Mộc Nhĩ Và Đậu Hà Lan', 'so_tu': 9},\n",
      "                 {'ten': 'Pizza Gập Bọc Sốt Cà Chua Phô Mai Nướng', 'so_tu': 9},\n",
      "                 {'ten': 'Bánh Cuộn Quế Nhân Khoai Lang Phủ Kem Phô Mai',\n",
      "                  'so_tu': 10},\n",
      "                 {'ten': 'Pizza Chuối', 'so_tu': 2},\n",
      "                 {'ten': 'Gà Nướng Rưới Sốt Mù Tạt Và Mật Ong', 'so_tu': 9},\n",
      "                 {'ten': 'Cá Kho', 'so_tu': 2},\n",
      "                 {'ten': 'Cá Kèo Kho Rau Răm Dầu Hào Tỏi Ớt CHIN-SU',\n",
      "                  'so_tu': 10},\n",
      "                 {'ten': 'Chè Bột Lọc Nhân Dừa Non Và Nước Cốt Dừa',\n",
      "                  'so_tu': 10},\n",
      "                 {'ten': 'Spaghetti Mì Xào Xì Dầu Trứng Cút Dầu Mè',\n",
      "                  'so_tu': 9},\n",
      "                 {'ten': 'Rau Câu Thanh Long Dưa Hấu Lá Dứa Sữa Tươi',\n",
      "                  'so_tu': 10},\n",
      "                 {'ten': 'Bánh Trung Thu Rau Câu Cacao Nhân Bánh Plan',\n",
      "                  'so_tu': 9},\n",
      "                 {'ten': 'Mì Cải Xanh Xào Ức Gà Sốt Tương Cà', 'so_tu': 9},\n",
      "                 {'ten': 'Hào Trứng Cút Tái Chanh Cùng Gỏi Rong Biển Mè Rang',\n",
      "                  'so_tu': 11},\n",
      "                 {'ten': 'Salad Rainbow', 'so_tu': 2},\n",
      "                 {'ten': 'Đậu Hũ Nhồi Thịt Sốt Cà Chua Đơn Giản', 'so_tu': 9},\n",
      "                 {'ten': 'Nấm Đông Cô Nhồi Đậu Hũ Sốt Cà Chua', 'so_tu': 9},\n",
      "                 {'ten': 'Phi Lê Cá Basa Chiên Giòn Sốt Chanh Leo', 'so_tu': 9},\n",
      "                 {'ten': 'Ram Hến', 'so_tu': 2}],\n",
      " 'mon_an_qua_nhieu_nguyen_lieu': [{'ten': 'Canh Chua Đậu Hũ',\n",
      "                                   'so_nguyen_lieu': 15},\n",
      "                                  {'ten': 'Bánh Canh Chay',\n",
      "                                   'so_nguyen_lieu': 17},\n",
      "                                  {'ten': 'Nui Nấm Thập Cẩm',\n",
      "                                   'so_nguyen_lieu': 16},\n",
      "                                  {'ten': 'Hủ Tiếu Nấm', 'so_nguyen_lieu': 18},\n",
      "                                  {'ten': 'Bánh Canh Nấm',\n",
      "                                   'so_nguyen_lieu': 17},\n",
      "                                  {'ten': 'Mỳ Nấm', 'so_nguyen_lieu': 19},\n",
      "                                  {'ten': 'Mì Quảng Gà Ta',\n",
      "                                   'so_nguyen_lieu': 15},\n",
      "                                  {'ten': 'MÌ UDON ĐẬU HỦ SỐT MISO',\n",
      "                                   'so_nguyen_lieu': 16},\n",
      "                                  {'ten': 'Thịt Bò Chay Xào Rau Củ',\n",
      "                                   'so_nguyen_lieu': 16},\n",
      "                                  {'ten': 'Salad Thịt Bò Xào Chay',\n",
      "                                   'so_nguyen_lieu': 18},\n",
      "                                  {'ten': 'Bún Chả Giò Chay',\n",
      "                                   'so_nguyen_lieu': 16},\n",
      "                                  {'ten': 'Mì Udon Thịt Heo Hầm & Trứng Ngâm',\n",
      "                                   'so_nguyen_lieu': 18},\n",
      "                                  {'ten': 'Mì Thịt Heo Hầm',\n",
      "                                   'so_nguyen_lieu': 19},\n",
      "                                  {'ten': 'TANTAN UDON - Mì Khô Nhật Bản',\n",
      "                                   'so_nguyen_lieu': 16},\n",
      "                                  {'ten': 'Cơm Thịt Ba Chỉ Sốt Cay',\n",
      "                                   'so_nguyen_lieu': 17},\n",
      "                                  {'ten': 'Mì Gói Gà Cay',\n",
      "                                   'so_nguyen_lieu': 15},\n",
      "                                  {'ten': 'Hamburger Gà Bằng Bánh Rán',\n",
      "                                   'so_nguyen_lieu': 17},\n",
      "                                  {'ten': 'Mì Udon Xào Tôm Bông Cải',\n",
      "                                   'so_nguyen_lieu': 15},\n",
      "                                  {'ten': 'Thịt Lợn Om Nấm Và Hạt Dẻ',\n",
      "                                   'so_nguyen_lieu': 17},\n",
      "                                  {'ten': 'Hải Sản Tổ Chim Theo Kiểu Quảng '\n",
      "                                          'Đông',\n",
      "                                   'so_nguyen_lieu': 20},\n",
      "                                  {'ten': 'Cá Trắm Sốt Xì Dầu',\n",
      "                                   'so_nguyen_lieu': 17},\n",
      "                                  {'ten': 'Bánh Cuộn Quế Nhân Khoai Lang Phủ '\n",
      "                                          'Kem Phô Mai',\n",
      "                                   'so_nguyen_lieu': 17},\n",
      "                                  {'ten': 'Pizza Gà Rau Củ',\n",
      "                                   'so_nguyen_lieu': 15},\n",
      "                                  {'ten': 'Cá Đù Chiên Giòn Sốt Chua Ngọt',\n",
      "                                   'so_nguyen_lieu': 16},\n",
      "                                  {'ten': 'Heo Nướng Lụi',\n",
      "                                   'so_nguyen_lieu': 17},\n",
      "                                  {'ten': 'Vịt Hấp Hoa Sen Cơm Muối É',\n",
      "                                   'so_nguyen_lieu': 22},\n",
      "                                  {'ten': 'Gà Phú Quý', 'so_nguyen_lieu': 20},\n",
      "                                  {'ten': 'Chả Giò Trái Cây Trà Xanh',\n",
      "                                   'so_nguyen_lieu': 19},\n",
      "                                  {'ten': 'Bánh Ướt Gấc Nhân Cá Hồi',\n",
      "                                   'so_nguyen_lieu': 21},\n",
      "                                  {'ten': 'Cá Lăng Sốt Chua Ngọt Riềng Mẻ',\n",
      "                                   'so_nguyen_lieu': 16},\n",
      "                                  {'ten': 'Bò Kho Xốt Nêm',\n",
      "                                   'so_nguyen_lieu': 15},\n",
      "                                  {'ten': 'Khô Cá Lóc Nướng',\n",
      "                                   'so_nguyen_lieu': 2},\n",
      "                                  {'ten': 'Cải Sậy Ngâm Chua Ngọt',\n",
      "                                   'so_nguyen_lieu': 2},\n",
      "                                  {'ten': 'Hủ Tiếu Chay Đơn Giản',\n",
      "                                   'so_nguyen_lieu': 17},\n",
      "                                  {'ten': 'Bánh Cuốn Nóng Bằng Chảo',\n",
      "                                   'so_nguyen_lieu': 17}]}\n"
     ]
    }
   ],
   "execution_count": 43
  }
 ],
 "metadata": {
  "kernelspec": {
   "display_name": "Python 3",
   "language": "python",
   "name": "python3"
  },
  "language_info": {
   "codemirror_mode": {
    "name": "ipython",
    "version": 2
   },
   "file_extension": ".py",
   "mimetype": "text/x-python",
   "name": "python",
   "nbconvert_exporter": "python",
   "pygments_lexer": "ipython2",
   "version": "2.7.6"
  }
 },
 "nbformat": 4,
 "nbformat_minor": 5
}
