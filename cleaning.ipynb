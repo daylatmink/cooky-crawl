{
 "cells": [
  {
   "cell_type": "code",
   "id": "initial_id",
   "metadata": {
    "collapsed": true,
    "ExecuteTime": {
     "end_time": "2025-07-20T17:43:11.861346Z",
     "start_time": "2025-07-20T17:43:11.708741Z"
    }
   },
   "source": [
    "import json\n",
    "import uuid\n",
    "\n",
    "# Bước 1: Đọc dữ liệu gốc\n",
    "with open(\"recipes.json\", \"r\", encoding=\"utf-8\") as f:\n",
    "    raw_data = json.load(f)\n",
    "\n",
    "# Bước 2: Hàm chuyển đổi từng công thức nấu ăn\n",
    "def convert_to_clean_format(recipe):\n",
    "    return {\n",
    "        \"_id\": recipe.get(\"id\"),  # Sinh ID ngẫu nhiên\n",
    "        \"name\": recipe.get(\"title\"),\n",
    "        \"description\": recipe.get(\"description\"),\n",
    "        \"imageURL\": recipe.get(\"image\"),\n",
    "        \"cuisine\": \"Vietnamese\",  # Có thể sửa thành dynamic nếu cần\n",
    "        \"preTimeMinutes\": None,   # Không có sẵn → để None\n",
    "        \"cookTimeMinutes\": recipe.get(\"time\"),\n",
    "        \"totalTimeMinutes\": recipe.get(\"time\"),\n",
    "        \"servings\": recipe.get(\"servings\"),\n",
    "        \"ingredients\": [\n",
    "            {\n",
    "                \"ingredientID\": str(uuid.uuid4()),\n",
    "                \"name\": ing.get(\"name\"),\n",
    "                \"quantity\": ing.get(\"quantity\"),\n",
    "                \"unit\": ing.get(\"unit\"),\n",
    "                \"notes\": ing.get(\"notes\"),\n",
    "                \"nutritionInfoPerRecipeServing\": {\n",
    "                    \"calories\": None,\n",
    "                    \"protein\": None,\n",
    "                    \"carb\": None,\n",
    "                    \"fat\": None\n",
    "                }\n",
    "            } for ing in recipe.get(\"ingredients\", [])\n",
    "        ]\n",
    "    }\n",
    "\n",
    "# Bước 3: Áp dụng cho toàn bộ danh sách\n",
    "cleaned_data = [convert_to_clean_format(r) for r in raw_data]\n",
    "\n",
    "# Bước 4: Ghi ra file JSON mới\n",
    "with open(\"clean_data.json\", \"w\", encoding=\"utf-8\") as f:\n",
    "    json.dump(cleaned_data, f, ensure_ascii=False, indent=2)\n",
    "\n",
    "print(\"✅ Đã convert thành công sang định dạng clean!\")\n"
   ],
   "outputs": [
    {
     "name": "stdout",
     "output_type": "stream",
     "text": [
      "✅ Đã convert thành công sang định dạng clean!\n"
     ]
    }
   ],
   "execution_count": 3
  }
 ],
 "metadata": {
  "kernelspec": {
   "display_name": "Python 3",
   "language": "python",
   "name": "python3"
  },
  "language_info": {
   "codemirror_mode": {
    "name": "ipython",
    "version": 2
   },
   "file_extension": ".py",
   "mimetype": "text/x-python",
   "name": "python",
   "nbconvert_exporter": "python",
   "pygments_lexer": "ipython2",
   "version": "2.7.6"
  }
 },
 "nbformat": 4,
 "nbformat_minor": 5
}
